{
 "cells": [
  {
   "cell_type": "markdown",
   "metadata": {},
   "source": [
    "## We will be working with database chinook.db\n",
    "You can download it here: https://drive.google.com/file/d/0Bz9_0VdXvv9bWUtqM0NBYzhKZ3c/view?usp=sharing\n",
    "\n",
    "The\tChinook\tDatabase is\tabout an imaginary video and music store. Each track is\tstored using one of\tthe digital formats and\thas\ta genre. The store has also\tsome playlists,\twhere a single track can be\tpart of several\tplaylists. Orders are recorded\tfor\tcustomers, but are called invoices. Every customer is assigned a support employee, and Employees report to other employees."
   ]
  },
  {
   "cell_type": "code",
   "execution_count": null,
   "metadata": {},
   "outputs": [],
   "source": []
  },
  {
   "cell_type": "code",
   "execution_count": null,
   "metadata": {},
   "outputs": [],
   "source": []
  },
  {
   "cell_type": "markdown",
   "metadata": {},
   "source": [
    "### Which\tartists\tdid\tnot\tmake\tany\talbums\tat\tall?\tInclude\ttheir\tnames\tin your\tanswer."
   ]
  },
  {
   "cell_type": "markdown",
   "metadata": {},
   "source": [
    "select name, title\n",
    "from artists\n",
    "left outer join albums\n",
    "on artists.ArtistId = albums.ArtistId\n",
    "where title IS NULL\n",
    "\n",
    "# 71 artists / lines\n",
    "\n",
    "A Cor Do Som\n",
    "Academy of St. Martin in the Fields, Sir Neville Marriner & William Bennett\n",
    "Aerosmith & Sierra Leone's Refugee Allstars\n",
    "Avril Lavigne\n",
    "Azymuth\n",
    "Baby Consuelo\n",
    "Banda Black Rio\n",
    "Barão Vermelho\n",
    "Bebel Gilberto\n",
    "Ben Harper\n",
    "Big & Rich\n",
    "Black Eyed Peas\n",
    "Charlie Brown Jr.\n",
    "Christina Aguilera featuring BigElf\n",
    "Corinne Bailey Rae\n",
    "Dhani Harrison & Jakob Dylan\n",
    "DJ Dolores & Orchestra Santa Massa\n",
    "Edson, DJ Marky & DJ Patife Featuring Fernanda Porto\n",
    "Fernanda Porto\n",
    "Gustavo & Andres Veiga & Salazar\n",
    "Hermeto Pascoal\n",
    "Instituto\n",
    "Jack Johnson\n",
    "Jack's Mannequin & Mick Fleetwood\n",
    "Jackson Browne\n",
    "Jaguares\n",
    "Jorge Vercilo\n",
    "João Gilberto\n",
    "Kid Abelha\n",
    "Los Hermanos\n",
    "Los Lonely Boys\n",
    "Luiz Melodia\n",
    "Matisyahu\n",
    "Milton Nascimento & Bebeto\n",
    "Motörhead & Girlschool\n",
    "Mundo Livre S/A\n",
    "Nando Reis\n",
    "Nação Zumbi\n",
    "Nega Gizza\n",
    "Ney Matogrosso\n",
    "Os Cariocas\n",
    "Otto\n",
    "Pedro Luís & A Parede\n",
    "Pedro Luís E A Parede\n",
    "Peter Tosh\n",
    "R.E.M. Feat. KRS-One\n",
    "Regina Spektor\n",
    "Rodox\n",
    "Sabotage E Instituto\n",
    "Sandra De Sá\n",
    "Santana Feat. Dave Matthews\n",
    "Santana Feat. Eagle-Eye Cherry\n",
    "Santana Feat. Eric Clapton\n",
    "Santana Feat. Everlast\n",
    "Santana Feat. Lauryn Hill & Cee-Lo\n",
    "Santana Feat. Maná\n",
    "Santana Feat. Rob Thomas\n",
    "Santana Feat. The Project G&B\n",
    "Seu Jorge\n",
    "Simply Red\n",
    "Snow Patrol\n",
    "Stereo Maracana\n",
    "The Flaming Lips\n",
    "The Postal Service\n",
    "Vinicius, Toquinho & Quarteto Em Cy\n",
    "Vinícius De Moraes & Baden Powell\n",
    "Vinícius E Odette Lara\n",
    "Vinícius E Qurteto Em Cy\n",
    "Whitesnake\n",
    "Xis\n",
    "Youssou N'Dour\n"
   ]
  },
  {
   "cell_type": "markdown",
   "metadata": {},
   "source": [
    "### Which\tartists\trecorded\tany\ttracks\tof\tthe\tLatin\tgenre?"
   ]
  },
  {
   "cell_type": "markdown",
   "metadata": {},
   "source": [
    "select artists.Name, genres.Name\n",
    "from artists\n",
    "left outer join albums\n",
    "on artists.ArtistId = albums.ArtistId\n",
    "join tracks\n",
    "on albums.AlbumId = tracks.AlbumId  \n",
    "join genres\n",
    "on tracks.GenreId = genres.GenreId\n",
    "where genres.Name = 'Latin'\n",
    "group by artists.Name\n",
    "\n",
    "# 28 Artists\n",
    "\n",
    "Antônio Carlos Jobim\n",
    "Caetano Veloso\n",
    "Chico Buarque\n",
    "Chico Science & Nação Zumbi\n",
    "Cláudio Zoli\n",
    "Cássia Eller\n",
    "Djavan\n",
    "Ed Motta\n",
    "Elis Regina\n",
    "Eric Clapton\n",
    "Falamansa\n",
    "Funk Como Le Gusta\n",
    "Gilberto Gil\n",
    "Gonzaguinha\n",
    "Jorge Ben\n",
    "Jota Quest\n",
    "Legião Urbana\n",
    "Luciana Souza/Romero Lubambo\n",
    "Lulu Santos\n",
    "Marcos Valle\n",
    "Marisa Monte\n",
    "Milton Nascimento\n",
    "Olodum\n",
    "Os Paralamas Do Sucesso\n",
    "Tim Maia\n",
    "Various Artists\n",
    "Vinícius De Moraes\n",
    "Zeca Pagodinho\n"
   ]
  },
  {
   "cell_type": "markdown",
   "metadata": {},
   "source": [
    "### Which\tvideo track\thas\tthe\tlongest\tlength?"
   ]
  },
  {
   "cell_type": "markdown",
   "metadata": {},
   "source": [
    "select tracks.Name, tracks.MediaTypeId, media_types.Name, Milliseconds\n",
    "from tracks\n",
    "join media_types\n",
    "on tracks.MediaTypeId = media_types.MediaTypeId\n",
    "where tracks.MediaTypeId = 3\n",
    "order by Milliseconds desc\n",
    "\n",
    "# Answer\n",
    "Occupation / Precipice\t3\tProtected MPEG-4 video file\t5286953\n"
   ]
  },
  {
   "cell_type": "markdown",
   "metadata": {},
   "source": [
    "### Find\tthe\tnames\tof\tcustomers\twho\tlive\tin\tthe\tsame\tcity\tas\tthe\ttop\temployee\t(The\tone\tnot\tmanaged\tby\tanyone)."
   ]
  },
  {
   "cell_type": "markdown",
   "metadata": {},
   "source": [
    "select FirstName, LastName, City\n",
    "from customers\n",
    "where City = (\n",
    "  select City\n",
    "  from employees\n",
    "  where ReportsTo is null);\n",
    "# Answer Mark Phillips in Edmonton"
   ]
  },
  {
   "cell_type": "markdown",
   "metadata": {},
   "source": [
    "### Find\tthe\tmanagers of\temployees\tsupporting\tBrazilian\tcustomers."
   ]
  },
  {
   "cell_type": "markdown",
   "metadata": {},
   "source": [
    "select employees.FirstName, employees.LastName\n",
    "from employees\n",
    "join employees as sub\n",
    "on employees.EmployeeId = sub.ReportsTo\n",
    "join customers\n",
    "on customers.SupportRepId = sub.EmployeeId\n",
    "where customers.Country = 'Brazil'\n",
    "group by employees.FirstName and employees.LastName\n",
    "\n",
    "# Answer \n",
    "Nancy Edwards"
   ]
  },
  {
   "cell_type": "markdown",
   "metadata": {},
   "source": [
    "### Which\tplaylists\thave\tno\tLatin\ttracks?"
   ]
  },
  {
   "cell_type": "markdown",
   "metadata": {},
   "source": [
    "select playlists.Name\n",
    "from playlists\n",
    "where playlists.PlaylistId IN (\n",
    "  select playlist_track.PlaylistId\n",
    "  from playlist_track\n",
    "  where playlist_track.TrackId not in (\n",
    "    select tracks.TrackId\n",
    "    from tracks\n",
    "    join genres\n",
    "    on tracks.GenreId = genres.GenreId\n",
    "    where genres.Name = 'Latin')\n",
    "  );\n",
    "  \n",
    "# Answer\n",
    "Music\n",
    "TV Shows\n",
    "90’s Music\n",
    "Music\n",
    "Music Videos\n",
    "TV Shows\n",
    "Classical\n",
    "Classical 101 - Deep Cuts\n",
    "Classical 101 - Next Steps\n",
    "Classical 101 - The Basics\n",
    "Grunge\n",
    "Heavy Metal Classic\n",
    "On-The-Go 1"
   ]
  }
 ],
 "metadata": {
  "kernelspec": {
   "display_name": "Python 3",
   "language": "python",
   "name": "python3"
  },
  "language_info": {
   "codemirror_mode": {
    "name": "ipython",
    "version": 3
   },
   "file_extension": ".py",
   "mimetype": "text/x-python",
   "name": "python",
   "nbconvert_exporter": "python",
   "pygments_lexer": "ipython3",
   "version": "3.8.3-final"
  }
 },
 "nbformat": 4,
 "nbformat_minor": 4
}