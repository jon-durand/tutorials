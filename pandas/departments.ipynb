{
 "metadata": {
  "language_info": {
   "codemirror_mode": {
    "name": "ipython",
    "version": 3
   },
   "file_extension": ".py",
   "mimetype": "text/x-python",
   "name": "python",
   "nbconvert_exporter": "python",
   "pygments_lexer": "ipython3",
   "version": "3.8.3-final"
  },
  "orig_nbformat": 2,
  "kernelspec": {
   "name": "python38364bitlhlconda619b2268636e4f63936b0b3bcdf3dd7d",
   "display_name": "Python 3.8.3 64-bit ('lhl': conda)"
  }
 },
 "nbformat": 4,
 "nbformat_minor": 2,
 "cells": [
  {
   "cell_type": "code",
   "execution_count": 9,
   "metadata": {},
   "outputs": [],
   "source": [
    "import pandas as pd\n",
    "dep_df = pd.read_csv('departments.csv')\n",
    "pro_df = pd.read_csv('products_small.csv')"
   ]
  },
  {
   "cell_type": "code",
   "execution_count": 8,
   "metadata": {},
   "outputs": [
    {
     "output_type": "execute_result",
     "data": {
      "text/plain": "    department_id       department\n0               1           frozen\n1               2            other\n2               3           bakery\n3               4          produce\n4               5          alcohol\n5               6    international\n6               7        beverages\n7               8             pets\n8               9  dry goods pasta\n9              10             bulk\n10             11    personal care\n11             12     meat seafood\n12             13           pantry\n13             14        breakfast\n14             15     canned goods\n15             16       dairy eggs\n16             17        household\n17             18           babies\n18             19           snacks\n19             20             deli\n20             21          missing",
      "text/html": "<div>\n<style scoped>\n    .dataframe tbody tr th:only-of-type {\n        vertical-align: middle;\n    }\n\n    .dataframe tbody tr th {\n        vertical-align: top;\n    }\n\n    .dataframe thead th {\n        text-align: right;\n    }\n</style>\n<table border=\"1\" class=\"dataframe\">\n  <thead>\n    <tr style=\"text-align: right;\">\n      <th></th>\n      <th>department_id</th>\n      <th>department</th>\n    </tr>\n  </thead>\n  <tbody>\n    <tr>\n      <th>0</th>\n      <td>1</td>\n      <td>frozen</td>\n    </tr>\n    <tr>\n      <th>1</th>\n      <td>2</td>\n      <td>other</td>\n    </tr>\n    <tr>\n      <th>2</th>\n      <td>3</td>\n      <td>bakery</td>\n    </tr>\n    <tr>\n      <th>3</th>\n      <td>4</td>\n      <td>produce</td>\n    </tr>\n    <tr>\n      <th>4</th>\n      <td>5</td>\n      <td>alcohol</td>\n    </tr>\n    <tr>\n      <th>5</th>\n      <td>6</td>\n      <td>international</td>\n    </tr>\n    <tr>\n      <th>6</th>\n      <td>7</td>\n      <td>beverages</td>\n    </tr>\n    <tr>\n      <th>7</th>\n      <td>8</td>\n      <td>pets</td>\n    </tr>\n    <tr>\n      <th>8</th>\n      <td>9</td>\n      <td>dry goods pasta</td>\n    </tr>\n    <tr>\n      <th>9</th>\n      <td>10</td>\n      <td>bulk</td>\n    </tr>\n    <tr>\n      <th>10</th>\n      <td>11</td>\n      <td>personal care</td>\n    </tr>\n    <tr>\n      <th>11</th>\n      <td>12</td>\n      <td>meat seafood</td>\n    </tr>\n    <tr>\n      <th>12</th>\n      <td>13</td>\n      <td>pantry</td>\n    </tr>\n    <tr>\n      <th>13</th>\n      <td>14</td>\n      <td>breakfast</td>\n    </tr>\n    <tr>\n      <th>14</th>\n      <td>15</td>\n      <td>canned goods</td>\n    </tr>\n    <tr>\n      <th>15</th>\n      <td>16</td>\n      <td>dairy eggs</td>\n    </tr>\n    <tr>\n      <th>16</th>\n      <td>17</td>\n      <td>household</td>\n    </tr>\n    <tr>\n      <th>17</th>\n      <td>18</td>\n      <td>babies</td>\n    </tr>\n    <tr>\n      <th>18</th>\n      <td>19</td>\n      <td>snacks</td>\n    </tr>\n    <tr>\n      <th>19</th>\n      <td>20</td>\n      <td>deli</td>\n    </tr>\n    <tr>\n      <th>20</th>\n      <td>21</td>\n      <td>missing</td>\n    </tr>\n  </tbody>\n</table>\n</div>"
     },
     "metadata": {},
     "execution_count": 8
    }
   ],
   "source": [
    "dep_df"
   ]
  },
  {
   "cell_type": "code",
   "execution_count": 10,
   "metadata": {},
   "outputs": [
    {
     "output_type": "execute_result",
     "data": {
      "text/plain": "     product_id                                       product_name  aisle_id  \\\n0             4  Smart Ones Classic Favorites Mini Rigatoni Wit...        38   \n1             8                  Cut Russet Potatoes Steam N' Mash       116   \n2            12                         Chocolate Fudge Layer Cake       119   \n3            18                Pizza for One Suprema  Frozen Pizza        79   \n4            30         Three Cheese Ziti, Marinara with Meatballs        38   \n..          ...                                                ...       ...   \n332         627                      Low Fat Honey Graham Crackers        61   \n333         630                                   Snack Size Candy        45   \n334         631                                  Original Puffcorn       107   \n335         635                 Little Bites Snickerdoodle Muffins        61   \n336         650                  Pop'n Hot! Vegan Broccoli Poppers        50   \n\n     department_id  \n0                1  \n1                1  \n2                1  \n3                1  \n4                1  \n..             ...  \n332             19  \n333             19  \n334             19  \n335             19  \n336             19  \n\n[337 rows x 4 columns]",
      "text/html": "<div>\n<style scoped>\n    .dataframe tbody tr th:only-of-type {\n        vertical-align: middle;\n    }\n\n    .dataframe tbody tr th {\n        vertical-align: top;\n    }\n\n    .dataframe thead th {\n        text-align: right;\n    }\n</style>\n<table border=\"1\" class=\"dataframe\">\n  <thead>\n    <tr style=\"text-align: right;\">\n      <th></th>\n      <th>product_id</th>\n      <th>product_name</th>\n      <th>aisle_id</th>\n      <th>department_id</th>\n    </tr>\n  </thead>\n  <tbody>\n    <tr>\n      <th>0</th>\n      <td>4</td>\n      <td>Smart Ones Classic Favorites Mini Rigatoni Wit...</td>\n      <td>38</td>\n      <td>1</td>\n    </tr>\n    <tr>\n      <th>1</th>\n      <td>8</td>\n      <td>Cut Russet Potatoes Steam N' Mash</td>\n      <td>116</td>\n      <td>1</td>\n    </tr>\n    <tr>\n      <th>2</th>\n      <td>12</td>\n      <td>Chocolate Fudge Layer Cake</td>\n      <td>119</td>\n      <td>1</td>\n    </tr>\n    <tr>\n      <th>3</th>\n      <td>18</td>\n      <td>Pizza for One Suprema  Frozen Pizza</td>\n      <td>79</td>\n      <td>1</td>\n    </tr>\n    <tr>\n      <th>4</th>\n      <td>30</td>\n      <td>Three Cheese Ziti, Marinara with Meatballs</td>\n      <td>38</td>\n      <td>1</td>\n    </tr>\n    <tr>\n      <th>...</th>\n      <td>...</td>\n      <td>...</td>\n      <td>...</td>\n      <td>...</td>\n    </tr>\n    <tr>\n      <th>332</th>\n      <td>627</td>\n      <td>Low Fat Honey Graham Crackers</td>\n      <td>61</td>\n      <td>19</td>\n    </tr>\n    <tr>\n      <th>333</th>\n      <td>630</td>\n      <td>Snack Size Candy</td>\n      <td>45</td>\n      <td>19</td>\n    </tr>\n    <tr>\n      <th>334</th>\n      <td>631</td>\n      <td>Original Puffcorn</td>\n      <td>107</td>\n      <td>19</td>\n    </tr>\n    <tr>\n      <th>335</th>\n      <td>635</td>\n      <td>Little Bites Snickerdoodle Muffins</td>\n      <td>61</td>\n      <td>19</td>\n    </tr>\n    <tr>\n      <th>336</th>\n      <td>650</td>\n      <td>Pop'n Hot! Vegan Broccoli Poppers</td>\n      <td>50</td>\n      <td>19</td>\n    </tr>\n  </tbody>\n</table>\n<p>337 rows × 4 columns</p>\n</div>"
     },
     "metadata": {},
     "execution_count": 10
    }
   ],
   "source": [
    "pro_df"
   ]
  },
  {
   "cell_type": "code",
   "execution_count": 16,
   "metadata": {},
   "outputs": [
    {
     "output_type": "execute_result",
     "data": {
      "text/plain": "     department_id department  product_id  \\\n0                1     frozen           4   \n1                1     frozen           8   \n2                1     frozen          12   \n3                1     frozen          18   \n4                1     frozen          30   \n..             ...        ...         ...   \n332             21    missing         491   \n333             21    missing         556   \n334             21    missing         562   \n335             21    missing         614   \n336             21    missing         624   \n\n                                          product_name  aisle_id  \n0    Smart Ones Classic Favorites Mini Rigatoni Wit...        38  \n1                    Cut Russet Potatoes Steam N' Mash       116  \n2                           Chocolate Fudge Layer Cake       119  \n3                  Pizza for One Suprema  Frozen Pizza        79  \n4           Three Cheese Ziti, Marinara with Meatballs        38  \n..                                                 ...       ...  \n332                                     Pompelmo Water       100  \n333                    Bake & Break Cheese Garlic Loaf       100  \n334                           Traditional Tartar Sauce       100  \n335    Plain Dairy-Free Probiotic Drinkable Cashewgurt       100  \n336                                       Chub Chorizo       100  \n\n[337 rows x 5 columns]",
      "text/html": "<div>\n<style scoped>\n    .dataframe tbody tr th:only-of-type {\n        vertical-align: middle;\n    }\n\n    .dataframe tbody tr th {\n        vertical-align: top;\n    }\n\n    .dataframe thead th {\n        text-align: right;\n    }\n</style>\n<table border=\"1\" class=\"dataframe\">\n  <thead>\n    <tr style=\"text-align: right;\">\n      <th></th>\n      <th>department_id</th>\n      <th>department</th>\n      <th>product_id</th>\n      <th>product_name</th>\n      <th>aisle_id</th>\n    </tr>\n  </thead>\n  <tbody>\n    <tr>\n      <th>0</th>\n      <td>1</td>\n      <td>frozen</td>\n      <td>4</td>\n      <td>Smart Ones Classic Favorites Mini Rigatoni Wit...</td>\n      <td>38</td>\n    </tr>\n    <tr>\n      <th>1</th>\n      <td>1</td>\n      <td>frozen</td>\n      <td>8</td>\n      <td>Cut Russet Potatoes Steam N' Mash</td>\n      <td>116</td>\n    </tr>\n    <tr>\n      <th>2</th>\n      <td>1</td>\n      <td>frozen</td>\n      <td>12</td>\n      <td>Chocolate Fudge Layer Cake</td>\n      <td>119</td>\n    </tr>\n    <tr>\n      <th>3</th>\n      <td>1</td>\n      <td>frozen</td>\n      <td>18</td>\n      <td>Pizza for One Suprema  Frozen Pizza</td>\n      <td>79</td>\n    </tr>\n    <tr>\n      <th>4</th>\n      <td>1</td>\n      <td>frozen</td>\n      <td>30</td>\n      <td>Three Cheese Ziti, Marinara with Meatballs</td>\n      <td>38</td>\n    </tr>\n    <tr>\n      <th>...</th>\n      <td>...</td>\n      <td>...</td>\n      <td>...</td>\n      <td>...</td>\n      <td>...</td>\n    </tr>\n    <tr>\n      <th>332</th>\n      <td>21</td>\n      <td>missing</td>\n      <td>491</td>\n      <td>Pompelmo Water</td>\n      <td>100</td>\n    </tr>\n    <tr>\n      <th>333</th>\n      <td>21</td>\n      <td>missing</td>\n      <td>556</td>\n      <td>Bake &amp; Break Cheese Garlic Loaf</td>\n      <td>100</td>\n    </tr>\n    <tr>\n      <th>334</th>\n      <td>21</td>\n      <td>missing</td>\n      <td>562</td>\n      <td>Traditional Tartar Sauce</td>\n      <td>100</td>\n    </tr>\n    <tr>\n      <th>335</th>\n      <td>21</td>\n      <td>missing</td>\n      <td>614</td>\n      <td>Plain Dairy-Free Probiotic Drinkable Cashewgurt</td>\n      <td>100</td>\n    </tr>\n    <tr>\n      <th>336</th>\n      <td>21</td>\n      <td>missing</td>\n      <td>624</td>\n      <td>Chub Chorizo</td>\n      <td>100</td>\n    </tr>\n  </tbody>\n</table>\n<p>337 rows × 5 columns</p>\n</div>"
     },
     "metadata": {},
     "execution_count": 16
    }
   ],
   "source": [
    "dep_df.merge(pro_df, on='department_id', how='left')"
   ]
  },
  {
   "cell_type": "code",
   "execution_count": 14,
   "metadata": {},
   "outputs": [
    {
     "output_type": "execute_result",
     "data": {
      "text/plain": "     department_id department  product_id  \\\n0                1     frozen           4   \n1                1     frozen           8   \n2                1     frozen          12   \n3                1     frozen          18   \n4                1     frozen          30   \n..             ...        ...         ...   \n332             21    missing         491   \n333             21    missing         556   \n334             21    missing         562   \n335             21    missing         614   \n336             21    missing         624   \n\n                                          product_name  aisle_id  \n0    Smart Ones Classic Favorites Mini Rigatoni Wit...        38  \n1                    Cut Russet Potatoes Steam N' Mash       116  \n2                           Chocolate Fudge Layer Cake       119  \n3                  Pizza for One Suprema  Frozen Pizza        79  \n4           Three Cheese Ziti, Marinara with Meatballs        38  \n..                                                 ...       ...  \n332                                     Pompelmo Water       100  \n333                    Bake & Break Cheese Garlic Loaf       100  \n334                           Traditional Tartar Sauce       100  \n335    Plain Dairy-Free Probiotic Drinkable Cashewgurt       100  \n336                                       Chub Chorizo       100  \n\n[337 rows x 5 columns]",
      "text/html": "<div>\n<style scoped>\n    .dataframe tbody tr th:only-of-type {\n        vertical-align: middle;\n    }\n\n    .dataframe tbody tr th {\n        vertical-align: top;\n    }\n\n    .dataframe thead th {\n        text-align: right;\n    }\n</style>\n<table border=\"1\" class=\"dataframe\">\n  <thead>\n    <tr style=\"text-align: right;\">\n      <th></th>\n      <th>department_id</th>\n      <th>department</th>\n      <th>product_id</th>\n      <th>product_name</th>\n      <th>aisle_id</th>\n    </tr>\n  </thead>\n  <tbody>\n    <tr>\n      <th>0</th>\n      <td>1</td>\n      <td>frozen</td>\n      <td>4</td>\n      <td>Smart Ones Classic Favorites Mini Rigatoni Wit...</td>\n      <td>38</td>\n    </tr>\n    <tr>\n      <th>1</th>\n      <td>1</td>\n      <td>frozen</td>\n      <td>8</td>\n      <td>Cut Russet Potatoes Steam N' Mash</td>\n      <td>116</td>\n    </tr>\n    <tr>\n      <th>2</th>\n      <td>1</td>\n      <td>frozen</td>\n      <td>12</td>\n      <td>Chocolate Fudge Layer Cake</td>\n      <td>119</td>\n    </tr>\n    <tr>\n      <th>3</th>\n      <td>1</td>\n      <td>frozen</td>\n      <td>18</td>\n      <td>Pizza for One Suprema  Frozen Pizza</td>\n      <td>79</td>\n    </tr>\n    <tr>\n      <th>4</th>\n      <td>1</td>\n      <td>frozen</td>\n      <td>30</td>\n      <td>Three Cheese Ziti, Marinara with Meatballs</td>\n      <td>38</td>\n    </tr>\n    <tr>\n      <th>...</th>\n      <td>...</td>\n      <td>...</td>\n      <td>...</td>\n      <td>...</td>\n      <td>...</td>\n    </tr>\n    <tr>\n      <th>332</th>\n      <td>21</td>\n      <td>missing</td>\n      <td>491</td>\n      <td>Pompelmo Water</td>\n      <td>100</td>\n    </tr>\n    <tr>\n      <th>333</th>\n      <td>21</td>\n      <td>missing</td>\n      <td>556</td>\n      <td>Bake &amp; Break Cheese Garlic Loaf</td>\n      <td>100</td>\n    </tr>\n    <tr>\n      <th>334</th>\n      <td>21</td>\n      <td>missing</td>\n      <td>562</td>\n      <td>Traditional Tartar Sauce</td>\n      <td>100</td>\n    </tr>\n    <tr>\n      <th>335</th>\n      <td>21</td>\n      <td>missing</td>\n      <td>614</td>\n      <td>Plain Dairy-Free Probiotic Drinkable Cashewgurt</td>\n      <td>100</td>\n    </tr>\n    <tr>\n      <th>336</th>\n      <td>21</td>\n      <td>missing</td>\n      <td>624</td>\n      <td>Chub Chorizo</td>\n      <td>100</td>\n    </tr>\n  </tbody>\n</table>\n<p>337 rows × 5 columns</p>\n</div>"
     },
     "metadata": {},
     "execution_count": 14
    }
   ],
   "source": [
    "pd.merge(dep_df, pro_df, on='department_id', how='inner')"
   ]
  },
  {
   "cell_type": "code",
   "execution_count": null,
   "metadata": {},
   "outputs": [],
   "source": []
  }
 ]
}