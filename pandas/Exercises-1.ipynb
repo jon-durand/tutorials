{
 "cells": [
  {
   "cell_type": "code",
   "execution_count": 1,
   "metadata": {
    "collapsed": false,
    "jupyter": {
     "outputs_hidden": false
    }
   },
   "outputs": [],
   "source": [
    "# %matplotlib inline\n",
    "import pandas as pd"
   ]
  },
  {
   "cell_type": "markdown",
   "metadata": {},
   "source": [
    "### Connect Pandas to the database with this URL: "
   ]
  },
  {
   "cell_type": "code",
   "execution_count": 2,
   "metadata": {
    "collapsed": false,
    "jupyter": {
     "outputs_hidden": false
    }
   },
   "outputs": [
    {
     "output_type": "execute_result",
     "data": {
      "text/plain": "                     title  year\n0           The Rising Son  1990\n1  The Thousand Plane Raid  1969\n2         Crucea de piatra  1993\n3                  Country  2000\n4               Gaiking II  2011",
      "text/html": "<div>\n<style scoped>\n    .dataframe tbody tr th:only-of-type {\n        vertical-align: middle;\n    }\n\n    .dataframe tbody tr th {\n        vertical-align: top;\n    }\n\n    .dataframe thead th {\n        text-align: right;\n    }\n</style>\n<table border=\"1\" class=\"dataframe\">\n  <thead>\n    <tr style=\"text-align: right;\">\n      <th></th>\n      <th>title</th>\n      <th>year</th>\n    </tr>\n  </thead>\n  <tbody>\n    <tr>\n      <th>0</th>\n      <td>The Rising Son</td>\n      <td>1990</td>\n    </tr>\n    <tr>\n      <th>1</th>\n      <td>The Thousand Plane Raid</td>\n      <td>1969</td>\n    </tr>\n    <tr>\n      <th>2</th>\n      <td>Crucea de piatra</td>\n      <td>1993</td>\n    </tr>\n    <tr>\n      <th>3</th>\n      <td>Country</td>\n      <td>2000</td>\n    </tr>\n    <tr>\n      <th>4</th>\n      <td>Gaiking II</td>\n      <td>2011</td>\n    </tr>\n  </tbody>\n</table>\n</div>"
     },
     "metadata": {},
     "execution_count": 2
    }
   ],
   "source": [
    "titles = pd.read_csv('data/titles.csv')\n",
    "titles.head()"
   ]
  },
  {
   "cell_type": "code",
   "execution_count": 3,
   "metadata": {
    "collapsed": false,
    "jupyter": {
     "outputs_hidden": false
    }
   },
   "outputs": [
    {
     "output_type": "execute_result",
     "data": {
      "text/plain": "                  title  year      name   type                character     n\n0        Closet Monster  2015  Buffy #1  actor                  Buffy 4   NaN\n1       Suuri illusioni  1985    Homo $  actor                   Guests  22.0\n2   Battle of the Sexes  2017   $hutter  actor          Bobby Riggs Fan  10.0\n3  Secret in Their Eyes  2015   $hutter  actor          2002 Dodger Fan   NaN\n4            Steve Jobs  2015   $hutter  actor  1988 Opera House Patron   NaN",
      "text/html": "<div>\n<style scoped>\n    .dataframe tbody tr th:only-of-type {\n        vertical-align: middle;\n    }\n\n    .dataframe tbody tr th {\n        vertical-align: top;\n    }\n\n    .dataframe thead th {\n        text-align: right;\n    }\n</style>\n<table border=\"1\" class=\"dataframe\">\n  <thead>\n    <tr style=\"text-align: right;\">\n      <th></th>\n      <th>title</th>\n      <th>year</th>\n      <th>name</th>\n      <th>type</th>\n      <th>character</th>\n      <th>n</th>\n    </tr>\n  </thead>\n  <tbody>\n    <tr>\n      <th>0</th>\n      <td>Closet Monster</td>\n      <td>2015</td>\n      <td>Buffy #1</td>\n      <td>actor</td>\n      <td>Buffy 4</td>\n      <td>NaN</td>\n    </tr>\n    <tr>\n      <th>1</th>\n      <td>Suuri illusioni</td>\n      <td>1985</td>\n      <td>Homo $</td>\n      <td>actor</td>\n      <td>Guests</td>\n      <td>22.0</td>\n    </tr>\n    <tr>\n      <th>2</th>\n      <td>Battle of the Sexes</td>\n      <td>2017</td>\n      <td>$hutter</td>\n      <td>actor</td>\n      <td>Bobby Riggs Fan</td>\n      <td>10.0</td>\n    </tr>\n    <tr>\n      <th>3</th>\n      <td>Secret in Their Eyes</td>\n      <td>2015</td>\n      <td>$hutter</td>\n      <td>actor</td>\n      <td>2002 Dodger Fan</td>\n      <td>NaN</td>\n    </tr>\n    <tr>\n      <th>4</th>\n      <td>Steve Jobs</td>\n      <td>2015</td>\n      <td>$hutter</td>\n      <td>actor</td>\n      <td>1988 Opera House Patron</td>\n      <td>NaN</td>\n    </tr>\n  </tbody>\n</table>\n</div>"
     },
     "metadata": {},
     "execution_count": 3
    }
   ],
   "source": [
    "cast = pd.read_csv('data/cast.csv')\n",
    "cast.head()"
   ]
  },
  {
   "cell_type": "markdown",
   "metadata": {},
   "source": [
    "### How many movies are listed in the titles dataframe?"
   ]
  },
  {
   "cell_type": "code",
   "execution_count": 4,
   "metadata": {
    "collapsed": true,
    "jupyter": {
     "outputs_hidden": true
    }
   },
   "outputs": [],
   "source": [
    "# len(titles) #232330\n",
    "# titles.describe #232330 rows\n",
    "# titles.count() # 232330\n",
    " \n"
   ]
  },
  {
   "cell_type": "code",
   "execution_count": null,
   "metadata": {
    "collapsed": true,
    "jupyter": {
     "outputs_hidden": true
    }
   },
   "outputs": [],
   "source": []
  },
  {
   "cell_type": "markdown",
   "metadata": {},
   "source": [
    "### What are the earliest two films listed in the titles dataframe?"
   ]
  },
  {
   "cell_type": "code",
   "execution_count": 5,
   "metadata": {
    "collapsed": true,
    "jupyter": {
     "outputs_hidden": true
    }
   },
   "outputs": [
    {
     "output_type": "execute_result",
     "data": {
      "text/plain": "                     title  year\n177757          Miss Jerry  1894\n215272  The Startled Lover  1898",
      "text/html": "<div>\n<style scoped>\n    .dataframe tbody tr th:only-of-type {\n        vertical-align: middle;\n    }\n\n    .dataframe tbody tr th {\n        vertical-align: top;\n    }\n\n    .dataframe thead th {\n        text-align: right;\n    }\n</style>\n<table border=\"1\" class=\"dataframe\">\n  <thead>\n    <tr style=\"text-align: right;\">\n      <th></th>\n      <th>title</th>\n      <th>year</th>\n    </tr>\n  </thead>\n  <tbody>\n    <tr>\n      <th>177757</th>\n      <td>Miss Jerry</td>\n      <td>1894</td>\n    </tr>\n    <tr>\n      <th>215272</th>\n      <td>The Startled Lover</td>\n      <td>1898</td>\n    </tr>\n  </tbody>\n</table>\n</div>"
     },
     "metadata": {},
     "execution_count": 5
    }
   ],
   "source": [
    "titles['year'].min() # 1894\n",
    "titles.sort_values(by=['year']).head() # Miss Jerry & The Startled Lover\n",
    "titles.loc[ titles['year'] == titles['year'].min()]\n",
    "titles.sort_values('year').head(2)\n"
   ]
  },
  {
   "cell_type": "code",
   "execution_count": null,
   "metadata": {
    "collapsed": true,
    "jupyter": {
     "outputs_hidden": true
    }
   },
   "outputs": [],
   "source": []
  },
  {
   "cell_type": "markdown",
   "metadata": {},
   "source": [
    "### How many movies have the title \"Hamlet\"?"
   ]
  },
  {
   "cell_type": "code",
   "execution_count": 6,
   "metadata": {
    "collapsed": true,
    "jupyter": {
     "outputs_hidden": true
    }
   },
   "outputs": [
    {
     "output_type": "execute_result",
     "data": {
      "text/plain": "title    54\nyear     54\ndtype: int64"
     },
     "metadata": {},
     "execution_count": 6
    }
   ],
   "source": [
    "titles.loc[ titles['title']=='Hamlet'].count() #18\n",
    "titles.loc[ titles['title'].str.contains('Hamlet')].count() #54"
   ]
  },
  {
   "cell_type": "code",
   "execution_count": null,
   "metadata": {
    "collapsed": true,
    "jupyter": {
     "outputs_hidden": true
    }
   },
   "outputs": [],
   "source": []
  },
  {
   "cell_type": "markdown",
   "metadata": {},
   "source": [
    "### How many movies are titled \"North by Northwest\"?"
   ]
  },
  {
   "cell_type": "code",
   "execution_count": 7,
   "metadata": {
    "collapsed": true,
    "jupyter": {
     "outputs_hidden": true
    }
   },
   "outputs": [
    {
     "output_type": "execute_result",
     "data": {
      "text/plain": "title    1\nyear     1\ndtype: int64"
     },
     "metadata": {},
     "execution_count": 7
    }
   ],
   "source": [
    "titles.loc[ titles['title']=='North by Northwest'].count()  #1\n",
    "titles.loc[ titles['title'].str.contains('North by Northwest')].count() #1"
   ]
  },
  {
   "cell_type": "code",
   "execution_count": 26,
   "metadata": {
    "collapsed": true,
    "jupyter": {
     "outputs_hidden": true
    }
   },
   "outputs": [
    {
     "output_type": "execute_result",
     "data": {
      "text/plain": "                     title  year\n139311  North by Northwest  1959",
      "text/html": "<div>\n<style scoped>\n    .dataframe tbody tr th:only-of-type {\n        vertical-align: middle;\n    }\n\n    .dataframe tbody tr th {\n        vertical-align: top;\n    }\n\n    .dataframe thead th {\n        text-align: right;\n    }\n</style>\n<table border=\"1\" class=\"dataframe\">\n  <thead>\n    <tr style=\"text-align: right;\">\n      <th></th>\n      <th>title</th>\n      <th>year</th>\n    </tr>\n  </thead>\n  <tbody>\n    <tr>\n      <th>139311</th>\n      <td>North by Northwest</td>\n      <td>1959</td>\n    </tr>\n  </tbody>\n</table>\n</div>"
     },
     "metadata": {},
     "execution_count": 26
    }
   ],
   "source": []
  },
  {
   "cell_type": "markdown",
   "metadata": {},
   "source": [
    "### When was the first movie titled \"Hamlet\" made?"
   ]
  },
  {
   "cell_type": "code",
   "execution_count": 8,
   "metadata": {
    "collapsed": true,
    "jupyter": {
     "outputs_hidden": true
    }
   },
   "outputs": [
    {
     "output_type": "execute_result",
     "data": {
      "text/plain": "        title  year\n46721  Hamlet  1910",
      "text/html": "<div>\n<style scoped>\n    .dataframe tbody tr th:only-of-type {\n        vertical-align: middle;\n    }\n\n    .dataframe tbody tr th {\n        vertical-align: top;\n    }\n\n    .dataframe thead th {\n        text-align: right;\n    }\n</style>\n<table border=\"1\" class=\"dataframe\">\n  <thead>\n    <tr style=\"text-align: right;\">\n      <th></th>\n      <th>title</th>\n      <th>year</th>\n    </tr>\n  </thead>\n  <tbody>\n    <tr>\n      <th>46721</th>\n      <td>Hamlet</td>\n      <td>1910</td>\n    </tr>\n  </tbody>\n</table>\n</div>"
     },
     "metadata": {},
     "execution_count": 8
    }
   ],
   "source": [
    "titles.loc[ titles['title'].str.contains('Hamlet')].sort_values(by='year').head(1) # 1910\n",
    "titles.loc[ titles['title']=='Hamlet'].sort_values(by='year').head(1) #1910\n",
    "titles[ titles.title == 'Hamlet'].sort_values('year').head(1)"
   ]
  },
  {
   "cell_type": "code",
   "execution_count": null,
   "metadata": {
    "collapsed": true,
    "jupyter": {
     "outputs_hidden": true
    }
   },
   "outputs": [],
   "source": []
  },
  {
   "cell_type": "markdown",
   "metadata": {},
   "source": [
    "### List all of the \"Treasure Island\" movies from earliest to most recent."
   ]
  },
  {
   "cell_type": "code",
   "execution_count": 9,
   "metadata": {
    "collapsed": true,
    "jupyter": {
     "outputs_hidden": true
    }
   },
   "outputs": [
    {
     "output_type": "execute_result",
     "data": {
      "text/plain": "8"
     },
     "metadata": {},
     "execution_count": 9
    }
   ],
   "source": [
    "titles.loc[ titles['title'].str.contains('Treasure Island')].sort_values(by='year').shape[0]\n",
    "titles[titles.title == 'Treasure Island'].sort_values('year').shape[0]"
   ]
  },
  {
   "cell_type": "code",
   "execution_count": null,
   "metadata": {
    "collapsed": true,
    "jupyter": {
     "outputs_hidden": true
    }
   },
   "outputs": [],
   "source": []
  },
  {
   "cell_type": "markdown",
   "metadata": {},
   "source": [
    "### How many movies were made in the year 1950?"
   ]
  },
  {
   "cell_type": "code",
   "execution_count": 10,
   "metadata": {
    "collapsed": true,
    "jupyter": {
     "outputs_hidden": true
    }
   },
   "outputs": [
    {
     "output_type": "execute_result",
     "data": {
      "text/plain": "1099"
     },
     "metadata": {},
     "execution_count": 10
    }
   ],
   "source": [
    "titles.loc[ titles.year == 1950].count() #1099 \n",
    "len(titles.loc[ titles.year == 1950]) #1099"
   ]
  },
  {
   "cell_type": "code",
   "execution_count": null,
   "metadata": {
    "collapsed": true,
    "jupyter": {
     "outputs_hidden": true
    }
   },
   "outputs": [],
   "source": []
  },
  {
   "cell_type": "markdown",
   "metadata": {},
   "source": [
    "### How many movies were made in the year 1960?"
   ]
  },
  {
   "cell_type": "code",
   "execution_count": 11,
   "metadata": {
    "collapsed": true,
    "jupyter": {
     "outputs_hidden": true
    }
   },
   "outputs": [
    {
     "output_type": "execute_result",
     "data": {
      "text/plain": "title    1501\nyear     1501\ndtype: int64"
     },
     "metadata": {},
     "execution_count": 11
    }
   ],
   "source": [
    "titles.loc[ titles.year == 1960].count() # 1501"
   ]
  },
  {
   "cell_type": "code",
   "execution_count": null,
   "metadata": {
    "collapsed": true,
    "jupyter": {
     "outputs_hidden": true
    }
   },
   "outputs": [],
   "source": []
  },
  {
   "cell_type": "markdown",
   "metadata": {},
   "source": [
    "### How many movies were made from 1950 through 1959?"
   ]
  },
  {
   "cell_type": "code",
   "execution_count": 12,
   "metadata": {
    "collapsed": true,
    "jupyter": {
     "outputs_hidden": true
    }
   },
   "outputs": [
    {
     "output_type": "execute_result",
     "data": {
      "text/plain": "10132"
     },
     "metadata": {},
     "execution_count": 12
    }
   ],
   "source": [
    "titles.loc[ (titles.year > 1950) & (titles.year < 1959)].count() #10132  \n",
    "# count() will only return the count of non-NA/NaN rows for each column\n",
    "titles.loc[ (titles.year > 1950) & (titles.year < 1959)].shape[0] #10132\n",
    "# shape  will always correctly tell you the number of rows\n",
    "# Shape is also faster than count()\n",
    "# len(df.index is fastest)\n",
    "\n",
    "len(titles.loc[ (titles.year > 1950) & (titles.year < 1959)].index ) #10132"
   ]
  },
  {
   "cell_type": "code",
   "execution_count": null,
   "metadata": {
    "collapsed": true,
    "jupyter": {
     "outputs_hidden": true
    }
   },
   "outputs": [],
   "source": []
  },
  {
   "cell_type": "markdown",
   "metadata": {},
   "source": [
    "### In what years has a movie titled \"Batman\" been released?"
   ]
  },
  {
   "cell_type": "code",
   "execution_count": 13,
   "metadata": {
    "collapsed": true,
    "jupyter": {
     "outputs_hidden": true
    }
   },
   "outputs": [
    {
     "output_type": "execute_result",
     "data": {
      "text/plain": "        title  year\n56000  Batman  1989\n74608  Batman  1943",
      "text/html": "<div>\n<style scoped>\n    .dataframe tbody tr th:only-of-type {\n        vertical-align: middle;\n    }\n\n    .dataframe tbody tr th {\n        vertical-align: top;\n    }\n\n    .dataframe thead th {\n        text-align: right;\n    }\n</style>\n<table border=\"1\" class=\"dataframe\">\n  <thead>\n    <tr style=\"text-align: right;\">\n      <th></th>\n      <th>title</th>\n      <th>year</th>\n    </tr>\n  </thead>\n  <tbody>\n    <tr>\n      <th>56000</th>\n      <td>Batman</td>\n      <td>1989</td>\n    </tr>\n    <tr>\n      <th>74608</th>\n      <td>Batman</td>\n      <td>1943</td>\n    </tr>\n  </tbody>\n</table>\n</div>"
     },
     "metadata": {},
     "execution_count": 13
    }
   ],
   "source": [
    "titles.loc[titles.title.str.contains('Batman')].year\n",
    "titles[titles.title =='Batman']"
   ]
  },
  {
   "cell_type": "code",
   "execution_count": null,
   "metadata": {
    "collapsed": true,
    "jupyter": {
     "outputs_hidden": true
    }
   },
   "outputs": [],
   "source": []
  },
  {
   "cell_type": "markdown",
   "metadata": {},
   "source": [
    "### How many roles were there in the movie \"Inception\"?"
   ]
  },
  {
   "cell_type": "code",
   "execution_count": 14,
   "metadata": {
    "collapsed": true,
    "jupyter": {
     "outputs_hidden": true
    }
   },
   "outputs": [
    {
     "output_type": "execute_result",
     "data": {
      "text/plain": "77"
     },
     "metadata": {},
     "execution_count": 14
    }
   ],
   "source": [
    "cast[cast.title == 'Inception'].shape[0] #77"
   ]
  },
  {
   "cell_type": "code",
   "execution_count": null,
   "metadata": {
    "collapsed": true,
    "jupyter": {
     "outputs_hidden": true
    }
   },
   "outputs": [],
   "source": []
  },
  {
   "cell_type": "markdown",
   "metadata": {},
   "source": [
    "### How many roles in the movie \"Inception\" are NOT ranked by an \"n\" value?"
   ]
  },
  {
   "cell_type": "code",
   "execution_count": 19,
   "metadata": {
    "collapsed": true,
    "jupyter": {
     "outputs_hidden": true
    }
   },
   "outputs": [
    {
     "output_type": "execute_result",
     "data": {
      "text/plain": "26"
     },
     "metadata": {},
     "execution_count": 19
    }
   ],
   "source": [
    "# cast.loc[cast.n.notnull()].head() == cast[cast.n.notnull()].head() # is equivalent\n",
    "# cast[cast.n.isnull()].character.shape # 1390399 bad way\n",
    "cast[(cast.title =='Inception') & cast.n.isnull()].shape[0] #26"
   ]
  },
  {
   "cell_type": "code",
   "execution_count": null,
   "metadata": {
    "collapsed": true,
    "jupyter": {
     "outputs_hidden": true
    }
   },
   "outputs": [],
   "source": []
  },
  {
   "cell_type": "markdown",
   "metadata": {},
   "source": [
    "### But how many roles in the movie \"Inception\" did receive an \"n\" value?"
   ]
  },
  {
   "cell_type": "code",
   "execution_count": 16,
   "metadata": {
    "collapsed": true,
    "jupyter": {
     "outputs_hidden": true
    }
   },
   "outputs": [
    {
     "output_type": "execute_result",
     "data": {
      "text/plain": "2244068"
     },
     "metadata": {},
     "execution_count": 16
    }
   ],
   "source": [
    "cast[cast.n.notnull()].character.shape[0] #2244068"
   ]
  },
  {
   "cell_type": "code",
   "execution_count": null,
   "metadata": {
    "collapsed": true,
    "jupyter": {
     "outputs_hidden": true
    }
   },
   "outputs": [],
   "source": []
  },
  {
   "cell_type": "markdown",
   "metadata": {},
   "source": [
    "### Display the cast of \"North by Northwest\" in their correct \"n\"-value order, ignoring roles that did not earn a numeric \"n\" value."
   ]
  },
  {
   "cell_type": "code",
   "execution_count": 17,
   "metadata": {
    "collapsed": true,
    "jupyter": {
     "outputs_hidden": true
    }
   },
   "outputs": [
    {
     "output_type": "execute_result",
     "data": {
      "text/plain": "                      title  year                  name     type  \\\n845516   North by Northwest  1959            Cary Grant    actor   \n3382934  North by Northwest  1959       Eva Marie Saint  actress   \n1413409  North by Northwest  1959           James Mason    actor   \n3043261  North by Northwest  1959   Jessie Royce Landis  actress   \n345822   North by Northwest  1959        Leo G. Carroll    actor   \n2941468  North by Northwest  1959  Josephine Hutchinson  actress   \n1644542  North by Northwest  1959           Philip Ober    actor   \n1236791  North by Northwest  1959         Martin Landau    actor   \n2372617  North by Northwest  1959         Adam Williams    actor   \n1757154  North by Northwest  1959          Edward Platt    actor   \n646039   North by Northwest  1959     Robert Ellenstein    actor   \n2225858  North by Northwest  1959          Les Tremayne    actor   \n450691   North by Northwest  1959       Philip Coolidge    actor   \n1463316  North by Northwest  1959         Patrick McVey    actor   \n199768   North by Northwest  1959          Edward Binns    actor   \n1343025  North by Northwest  1959             Ken Lynch    actor   \n\n                           character     n  \n845516            Roger O. Thornhill   1.0  \n3382934                  Eve Kendall   2.0  \n1413409              Phillip Vandamm   3.0  \n3043261              Clara Thornhill   4.0  \n345822                 The Professor   5.0  \n2941468                Mrs. Townsend   6.0  \n1644542              Lester Townsend   7.0  \n1236791                      Leonard   8.0  \n2372617                     Valerian   9.0  \n1757154              Victor Larrabee  10.0  \n646039                         Licht  11.0  \n2225858                   Auctioneer  12.0  \n450691                     Dr. Cross  13.0  \n1463316               Sergeant Flamm  14.0  \n199768                Captain Junket  15.0  \n1343025  Charley - Chicago Policeman  16.0  ",
      "text/html": "<div>\n<style scoped>\n    .dataframe tbody tr th:only-of-type {\n        vertical-align: middle;\n    }\n\n    .dataframe tbody tr th {\n        vertical-align: top;\n    }\n\n    .dataframe thead th {\n        text-align: right;\n    }\n</style>\n<table border=\"1\" class=\"dataframe\">\n  <thead>\n    <tr style=\"text-align: right;\">\n      <th></th>\n      <th>title</th>\n      <th>year</th>\n      <th>name</th>\n      <th>type</th>\n      <th>character</th>\n      <th>n</th>\n    </tr>\n  </thead>\n  <tbody>\n    <tr>\n      <th>845516</th>\n      <td>North by Northwest</td>\n      <td>1959</td>\n      <td>Cary Grant</td>\n      <td>actor</td>\n      <td>Roger O. Thornhill</td>\n      <td>1.0</td>\n    </tr>\n    <tr>\n      <th>3382934</th>\n      <td>North by Northwest</td>\n      <td>1959</td>\n      <td>Eva Marie Saint</td>\n      <td>actress</td>\n      <td>Eve Kendall</td>\n      <td>2.0</td>\n    </tr>\n    <tr>\n      <th>1413409</th>\n      <td>North by Northwest</td>\n      <td>1959</td>\n      <td>James Mason</td>\n      <td>actor</td>\n      <td>Phillip Vandamm</td>\n      <td>3.0</td>\n    </tr>\n    <tr>\n      <th>3043261</th>\n      <td>North by Northwest</td>\n      <td>1959</td>\n      <td>Jessie Royce Landis</td>\n      <td>actress</td>\n      <td>Clara Thornhill</td>\n      <td>4.0</td>\n    </tr>\n    <tr>\n      <th>345822</th>\n      <td>North by Northwest</td>\n      <td>1959</td>\n      <td>Leo G. Carroll</td>\n      <td>actor</td>\n      <td>The Professor</td>\n      <td>5.0</td>\n    </tr>\n    <tr>\n      <th>2941468</th>\n      <td>North by Northwest</td>\n      <td>1959</td>\n      <td>Josephine Hutchinson</td>\n      <td>actress</td>\n      <td>Mrs. Townsend</td>\n      <td>6.0</td>\n    </tr>\n    <tr>\n      <th>1644542</th>\n      <td>North by Northwest</td>\n      <td>1959</td>\n      <td>Philip Ober</td>\n      <td>actor</td>\n      <td>Lester Townsend</td>\n      <td>7.0</td>\n    </tr>\n    <tr>\n      <th>1236791</th>\n      <td>North by Northwest</td>\n      <td>1959</td>\n      <td>Martin Landau</td>\n      <td>actor</td>\n      <td>Leonard</td>\n      <td>8.0</td>\n    </tr>\n    <tr>\n      <th>2372617</th>\n      <td>North by Northwest</td>\n      <td>1959</td>\n      <td>Adam Williams</td>\n      <td>actor</td>\n      <td>Valerian</td>\n      <td>9.0</td>\n    </tr>\n    <tr>\n      <th>1757154</th>\n      <td>North by Northwest</td>\n      <td>1959</td>\n      <td>Edward Platt</td>\n      <td>actor</td>\n      <td>Victor Larrabee</td>\n      <td>10.0</td>\n    </tr>\n    <tr>\n      <th>646039</th>\n      <td>North by Northwest</td>\n      <td>1959</td>\n      <td>Robert Ellenstein</td>\n      <td>actor</td>\n      <td>Licht</td>\n      <td>11.0</td>\n    </tr>\n    <tr>\n      <th>2225858</th>\n      <td>North by Northwest</td>\n      <td>1959</td>\n      <td>Les Tremayne</td>\n      <td>actor</td>\n      <td>Auctioneer</td>\n      <td>12.0</td>\n    </tr>\n    <tr>\n      <th>450691</th>\n      <td>North by Northwest</td>\n      <td>1959</td>\n      <td>Philip Coolidge</td>\n      <td>actor</td>\n      <td>Dr. Cross</td>\n      <td>13.0</td>\n    </tr>\n    <tr>\n      <th>1463316</th>\n      <td>North by Northwest</td>\n      <td>1959</td>\n      <td>Patrick McVey</td>\n      <td>actor</td>\n      <td>Sergeant Flamm</td>\n      <td>14.0</td>\n    </tr>\n    <tr>\n      <th>199768</th>\n      <td>North by Northwest</td>\n      <td>1959</td>\n      <td>Edward Binns</td>\n      <td>actor</td>\n      <td>Captain Junket</td>\n      <td>15.0</td>\n    </tr>\n    <tr>\n      <th>1343025</th>\n      <td>North by Northwest</td>\n      <td>1959</td>\n      <td>Ken Lynch</td>\n      <td>actor</td>\n      <td>Charley - Chicago Policeman</td>\n      <td>16.0</td>\n    </tr>\n  </tbody>\n</table>\n</div>"
     },
     "metadata": {},
     "execution_count": 17
    }
   ],
   "source": [
    "cast[(cast.title =='North by Northwest') & (cast.n.notnull())].sort_values(by='n')"
   ]
  },
  {
   "cell_type": "code",
   "execution_count": null,
   "metadata": {
    "collapsed": true,
    "jupyter": {
     "outputs_hidden": true
    }
   },
   "outputs": [],
   "source": []
  },
  {
   "cell_type": "markdown",
   "metadata": {},
   "source": [
    "### Display the entire cast, in \"n\"-order, of the 1972 film \"Sleuth\"."
   ]
  },
  {
   "cell_type": "code",
   "execution_count": 18,
   "metadata": {
    "collapsed": true,
    "jupyter": {
     "outputs_hidden": true
    }
   },
   "outputs": [
    {
     "output_type": "execute_result",
     "data": {
      "text/plain": "          title  year                name     type  \\\n1654402  Sleuth  1972    Laurence Olivier    actor   \n316652   Sleuth  1972       Michael Caine    actor   \n362592   Sleuth  1972      Alec Cawthorne    actor   \n1421434  Sleuth  1972  John (II) Matthews    actor   \n2635708  Sleuth  1972  Eve (III) Channing  actress   \n1405219  Sleuth  1972        Teddy Martin    actor   \n\n                          character    n  \n1654402                 Andrew Wyke  1.0  \n316652                  Milo Tindle  2.0  \n362592            Inspector Doppler  3.0  \n1421434  Detective Sergeant Tarrant  4.0  \n2635708             Marguerite Wyke  5.0  \n1405219      Police Constable Higgs  6.0  ",
      "text/html": "<div>\n<style scoped>\n    .dataframe tbody tr th:only-of-type {\n        vertical-align: middle;\n    }\n\n    .dataframe tbody tr th {\n        vertical-align: top;\n    }\n\n    .dataframe thead th {\n        text-align: right;\n    }\n</style>\n<table border=\"1\" class=\"dataframe\">\n  <thead>\n    <tr style=\"text-align: right;\">\n      <th></th>\n      <th>title</th>\n      <th>year</th>\n      <th>name</th>\n      <th>type</th>\n      <th>character</th>\n      <th>n</th>\n    </tr>\n  </thead>\n  <tbody>\n    <tr>\n      <th>1654402</th>\n      <td>Sleuth</td>\n      <td>1972</td>\n      <td>Laurence Olivier</td>\n      <td>actor</td>\n      <td>Andrew Wyke</td>\n      <td>1.0</td>\n    </tr>\n    <tr>\n      <th>316652</th>\n      <td>Sleuth</td>\n      <td>1972</td>\n      <td>Michael Caine</td>\n      <td>actor</td>\n      <td>Milo Tindle</td>\n      <td>2.0</td>\n    </tr>\n    <tr>\n      <th>362592</th>\n      <td>Sleuth</td>\n      <td>1972</td>\n      <td>Alec Cawthorne</td>\n      <td>actor</td>\n      <td>Inspector Doppler</td>\n      <td>3.0</td>\n    </tr>\n    <tr>\n      <th>1421434</th>\n      <td>Sleuth</td>\n      <td>1972</td>\n      <td>John (II) Matthews</td>\n      <td>actor</td>\n      <td>Detective Sergeant Tarrant</td>\n      <td>4.0</td>\n    </tr>\n    <tr>\n      <th>2635708</th>\n      <td>Sleuth</td>\n      <td>1972</td>\n      <td>Eve (III) Channing</td>\n      <td>actress</td>\n      <td>Marguerite Wyke</td>\n      <td>5.0</td>\n    </tr>\n    <tr>\n      <th>1405219</th>\n      <td>Sleuth</td>\n      <td>1972</td>\n      <td>Teddy Martin</td>\n      <td>actor</td>\n      <td>Police Constable Higgs</td>\n      <td>6.0</td>\n    </tr>\n  </tbody>\n</table>\n</div>"
     },
     "metadata": {},
     "execution_count": 18
    }
   ],
   "source": [
    "cast[(cast.year == 1972) & (cast.title == 'Sleuth')].sort_values(by='n')"
   ]
  },
  {
   "cell_type": "code",
   "execution_count": null,
   "metadata": {
    "collapsed": true,
    "jupyter": {
     "outputs_hidden": true
    }
   },
   "outputs": [],
   "source": []
  },
  {
   "cell_type": "markdown",
   "metadata": {},
   "source": [
    "### Now display the entire cast, in \"n\"-order, of the 2007 version of \"Sleuth\"."
   ]
  },
  {
   "cell_type": "code",
   "execution_count": 20,
   "metadata": {
    "collapsed": true,
    "jupyter": {
     "outputs_hidden": true
    }
   },
   "outputs": [
    {
     "output_type": "execute_result",
     "data": {
      "text/plain": "          title  year                 name     type          character    n\n316653   Sleuth  2007        Michael Caine    actor             Andrew  1.0\n1254632  Sleuth  2007             Jude Law    actor               Milo  2.0\n1751872  Sleuth  2007        Harold Pinter    actor        Man on T.V.  3.0\n251883   Sleuth  2007      Kenneth Branagh    actor  Other Man on T.V.  NaN\n362593   Sleuth  2007  Alec (II) Cawthorne    actor  Inspector Doppler  NaN\n2635707  Sleuth  2007    Eve (II) Channing  actress    Marguerite Wyke  NaN\n3244050  Sleuth  2007    Carmel O'Sullivan  actress             Maggie  NaN",
      "text/html": "<div>\n<style scoped>\n    .dataframe tbody tr th:only-of-type {\n        vertical-align: middle;\n    }\n\n    .dataframe tbody tr th {\n        vertical-align: top;\n    }\n\n    .dataframe thead th {\n        text-align: right;\n    }\n</style>\n<table border=\"1\" class=\"dataframe\">\n  <thead>\n    <tr style=\"text-align: right;\">\n      <th></th>\n      <th>title</th>\n      <th>year</th>\n      <th>name</th>\n      <th>type</th>\n      <th>character</th>\n      <th>n</th>\n    </tr>\n  </thead>\n  <tbody>\n    <tr>\n      <th>316653</th>\n      <td>Sleuth</td>\n      <td>2007</td>\n      <td>Michael Caine</td>\n      <td>actor</td>\n      <td>Andrew</td>\n      <td>1.0</td>\n    </tr>\n    <tr>\n      <th>1254632</th>\n      <td>Sleuth</td>\n      <td>2007</td>\n      <td>Jude Law</td>\n      <td>actor</td>\n      <td>Milo</td>\n      <td>2.0</td>\n    </tr>\n    <tr>\n      <th>1751872</th>\n      <td>Sleuth</td>\n      <td>2007</td>\n      <td>Harold Pinter</td>\n      <td>actor</td>\n      <td>Man on T.V.</td>\n      <td>3.0</td>\n    </tr>\n    <tr>\n      <th>251883</th>\n      <td>Sleuth</td>\n      <td>2007</td>\n      <td>Kenneth Branagh</td>\n      <td>actor</td>\n      <td>Other Man on T.V.</td>\n      <td>NaN</td>\n    </tr>\n    <tr>\n      <th>362593</th>\n      <td>Sleuth</td>\n      <td>2007</td>\n      <td>Alec (II) Cawthorne</td>\n      <td>actor</td>\n      <td>Inspector Doppler</td>\n      <td>NaN</td>\n    </tr>\n    <tr>\n      <th>2635707</th>\n      <td>Sleuth</td>\n      <td>2007</td>\n      <td>Eve (II) Channing</td>\n      <td>actress</td>\n      <td>Marguerite Wyke</td>\n      <td>NaN</td>\n    </tr>\n    <tr>\n      <th>3244050</th>\n      <td>Sleuth</td>\n      <td>2007</td>\n      <td>Carmel O'Sullivan</td>\n      <td>actress</td>\n      <td>Maggie</td>\n      <td>NaN</td>\n    </tr>\n  </tbody>\n</table>\n</div>"
     },
     "metadata": {},
     "execution_count": 20
    }
   ],
   "source": [
    "c = cast\n",
    "c = c[c.title == 'Sleuth']\n",
    "c = c[c.year == 2007]\n",
    "c = c.sort_values('n')\n",
    "c"
   ]
  },
  {
   "cell_type": "code",
   "execution_count": null,
   "metadata": {
    "collapsed": true,
    "jupyter": {
     "outputs_hidden": true
    }
   },
   "outputs": [],
   "source": []
  },
  {
   "cell_type": "markdown",
   "metadata": {},
   "source": [
    "### How many roles were credited in the silent 1921 version of Hamlet?"
   ]
  },
  {
   "cell_type": "code",
   "execution_count": 21,
   "metadata": {
    "collapsed": true,
    "jupyter": {
     "outputs_hidden": true
    }
   },
   "outputs": [
    {
     "output_type": "execute_result",
     "data": {
      "text/plain": "9"
     },
     "metadata": {},
     "execution_count": 21
    }
   ],
   "source": [
    "c = cast\n",
    "c = c[(c.title == 'Hamlet') & (c.year == 1921)]\n",
    "len(c)"
   ]
  },
  {
   "cell_type": "code",
   "execution_count": null,
   "metadata": {
    "collapsed": true,
    "jupyter": {
     "outputs_hidden": true
    }
   },
   "outputs": [],
   "source": []
  },
  {
   "cell_type": "markdown",
   "metadata": {},
   "source": [
    "### How many roles were credited in Branagh’s 1996 Hamlet?"
   ]
  },
  {
   "cell_type": "code",
   "execution_count": 24,
   "metadata": {
    "collapsed": true,
    "jupyter": {
     "outputs_hidden": true
    }
   },
   "outputs": [
    {
     "output_type": "execute_result",
     "data": {
      "text/plain": "54"
     },
     "metadata": {},
     "execution_count": 24
    }
   ],
   "source": [
    "# How many roles were credited in Branagh’s 1996 Hamlet?\n",
    "\n",
    "c = cast\n",
    "c = c[(c.title == 'Hamlet') & (c.year == 1996)]\n",
    "len(c)"
   ]
  },
  {
   "cell_type": "code",
   "execution_count": null,
   "metadata": {
    "collapsed": true,
    "jupyter": {
     "outputs_hidden": true
    }
   },
   "outputs": [],
   "source": []
  },
  {
   "cell_type": "markdown",
   "metadata": {},
   "source": [
    "### How many \"Hamlet\" roles have been listed in all film credits through history?"
   ]
  },
  {
   "cell_type": "code",
   "execution_count": 25,
   "metadata": {
    "collapsed": true,
    "jupyter": {
     "outputs_hidden": true
    }
   },
   "outputs": [
    {
     "output_type": "execute_result",
     "data": {
      "text/plain": "92"
     },
     "metadata": {},
     "execution_count": 25
    }
   ],
   "source": [
    "c = cast\n",
    "c = c[c.character == 'Hamlet']\n",
    "len(c)"
   ]
  },
  {
   "cell_type": "code",
   "execution_count": null,
   "metadata": {
    "collapsed": true,
    "jupyter": {
     "outputs_hidden": true
    }
   },
   "outputs": [],
   "source": []
  },
  {
   "cell_type": "markdown",
   "metadata": {},
   "source": [
    "### How many people have played an \"Ophelia\"?"
   ]
  },
  {
   "cell_type": "code",
   "execution_count": 26,
   "metadata": {
    "collapsed": true,
    "jupyter": {
     "outputs_hidden": true
    }
   },
   "outputs": [
    {
     "output_type": "execute_result",
     "data": {
      "text/plain": "109"
     },
     "metadata": {},
     "execution_count": 26
    }
   ],
   "source": [
    "len(cast[cast.character == \"Ophelia\"].name.unique())"
   ]
  },
  {
   "cell_type": "code",
   "execution_count": null,
   "metadata": {
    "collapsed": true,
    "jupyter": {
     "outputs_hidden": true
    }
   },
   "outputs": [],
   "source": []
  },
  {
   "cell_type": "markdown",
   "metadata": {},
   "source": [
    "### How many people have played a role called \"The Dude\"?"
   ]
  },
  {
   "cell_type": "code",
   "execution_count": null,
   "metadata": {
    "collapsed": true,
    "jupyter": {
     "outputs_hidden": true
    }
   },
   "outputs": [],
   "source": []
  },
  {
   "cell_type": "code",
   "execution_count": null,
   "metadata": {
    "collapsed": true,
    "jupyter": {
     "outputs_hidden": true
    }
   },
   "outputs": [],
   "source": []
  },
  {
   "cell_type": "markdown",
   "metadata": {},
   "source": [
    "### How many people have played a role called \"The Stranger\"?"
   ]
  },
  {
   "cell_type": "code",
   "execution_count": null,
   "metadata": {
    "collapsed": true,
    "jupyter": {
     "outputs_hidden": true
    }
   },
   "outputs": [],
   "source": []
  },
  {
   "cell_type": "code",
   "execution_count": null,
   "metadata": {
    "collapsed": true,
    "jupyter": {
     "outputs_hidden": true
    }
   },
   "outputs": [],
   "source": []
  },
  {
   "cell_type": "markdown",
   "metadata": {},
   "source": [
    "### How many roles has Sidney Poitier played throughout his career?"
   ]
  },
  {
   "cell_type": "code",
   "execution_count": null,
   "metadata": {
    "collapsed": true,
    "jupyter": {
     "outputs_hidden": true
    }
   },
   "outputs": [],
   "source": []
  },
  {
   "cell_type": "code",
   "execution_count": null,
   "metadata": {
    "collapsed": true,
    "jupyter": {
     "outputs_hidden": true
    }
   },
   "outputs": [],
   "source": []
  },
  {
   "cell_type": "markdown",
   "metadata": {},
   "source": [
    "### How many roles has Judi Dench played?"
   ]
  },
  {
   "cell_type": "code",
   "execution_count": null,
   "metadata": {
    "collapsed": true,
    "jupyter": {
     "outputs_hidden": true
    }
   },
   "outputs": [],
   "source": []
  },
  {
   "cell_type": "code",
   "execution_count": null,
   "metadata": {
    "collapsed": true,
    "jupyter": {
     "outputs_hidden": true
    }
   },
   "outputs": [],
   "source": []
  },
  {
   "cell_type": "markdown",
   "metadata": {},
   "source": [
    "### List the supporting roles (having n=2) played by Cary Grant in the 1940s, in order by year."
   ]
  },
  {
   "cell_type": "code",
   "execution_count": null,
   "metadata": {
    "collapsed": true,
    "jupyter": {
     "outputs_hidden": true
    }
   },
   "outputs": [],
   "source": [
    "c = cast\n",
    "c = c[cast.n == 2]\n",
    "c = c[cast.name == 'Cary Grant']\n",
    "c = c[c.year // 10 == 194]\n",
    "c = c.sort_values('year')\n",
    "c\n"
   ]
  },
  {
   "cell_type": "markdown",
   "metadata": {},
   "source": [
    "### List the leading roles that Cary Grant played in the 1940s in order by year."
   ]
  },
  {
   "cell_type": "code",
   "execution_count": null,
   "metadata": {
    "collapsed": true,
    "jupyter": {
     "outputs_hidden": true
    }
   },
   "outputs": [],
   "source": []
  },
  {
   "cell_type": "code",
   "execution_count": null,
   "metadata": {
    "collapsed": true,
    "jupyter": {
     "outputs_hidden": true
    }
   },
   "outputs": [],
   "source": []
  },
  {
   "cell_type": "markdown",
   "metadata": {},
   "source": [
    "### How many roles were available for actors in the 1950s?"
   ]
  },
  {
   "cell_type": "code",
   "execution_count": null,
   "metadata": {
    "collapsed": true,
    "jupyter": {
     "outputs_hidden": true
    }
   },
   "outputs": [],
   "source": []
  },
  {
   "cell_type": "code",
   "execution_count": null,
   "metadata": {
    "collapsed": true,
    "jupyter": {
     "outputs_hidden": true
    }
   },
   "outputs": [],
   "source": []
  },
  {
   "cell_type": "markdown",
   "metadata": {},
   "source": [
    "### How many roles were avilable for actresses in the 1950s?"
   ]
  },
  {
   "cell_type": "code",
   "execution_count": null,
   "metadata": {
    "collapsed": true,
    "jupyter": {
     "outputs_hidden": true
    }
   },
   "outputs": [],
   "source": []
  },
  {
   "cell_type": "code",
   "execution_count": null,
   "metadata": {
    "collapsed": true,
    "jupyter": {
     "outputs_hidden": true
    }
   },
   "outputs": [],
   "source": []
  },
  {
   "cell_type": "markdown",
   "metadata": {},
   "source": [
    "### How many leading roles (n=1) were available from the beginning of film history through 1980?"
   ]
  },
  {
   "cell_type": "code",
   "execution_count": null,
   "metadata": {
    "collapsed": true,
    "jupyter": {
     "outputs_hidden": true
    }
   },
   "outputs": [],
   "source": []
  },
  {
   "cell_type": "code",
   "execution_count": null,
   "metadata": {
    "collapsed": true,
    "jupyter": {
     "outputs_hidden": true
    }
   },
   "outputs": [],
   "source": []
  },
  {
   "cell_type": "markdown",
   "metadata": {},
   "source": [
    "### How many non-leading roles were available through from the beginning of film history through 1980?"
   ]
  },
  {
   "cell_type": "code",
   "execution_count": null,
   "metadata": {
    "collapsed": true,
    "jupyter": {
     "outputs_hidden": true
    }
   },
   "outputs": [],
   "source": []
  },
  {
   "cell_type": "code",
   "execution_count": null,
   "metadata": {
    "collapsed": true,
    "jupyter": {
     "outputs_hidden": true
    }
   },
   "outputs": [],
   "source": []
  },
  {
   "cell_type": "markdown",
   "metadata": {},
   "source": [
    "### How many roles through 1980 were minor enough that they did not warrant a numeric \"n\" rank?"
   ]
  },
  {
   "cell_type": "code",
   "execution_count": null,
   "metadata": {
    "collapsed": true,
    "jupyter": {
     "outputs_hidden": true
    }
   },
   "outputs": [],
   "source": []
  },
  {
   "cell_type": "code",
   "execution_count": null,
   "metadata": {
    "collapsed": true,
    "jupyter": {
     "outputs_hidden": true
    }
   },
   "outputs": [],
   "source": []
  }
 ],
 "metadata": {
  "kernelspec": {
   "display_name": "Python 3",
   "language": "python",
   "name": "python3"
  },
  "language_info": {
   "codemirror_mode": {
    "name": "ipython",
    "version": 3
   },
   "file_extension": ".py",
   "mimetype": "text/x-python",
   "name": "python",
   "nbconvert_exporter": "python",
   "pygments_lexer": "ipython3",
   "version": "3.7.4-final"
  }
 },
 "nbformat": 4,
 "nbformat_minor": 4
}