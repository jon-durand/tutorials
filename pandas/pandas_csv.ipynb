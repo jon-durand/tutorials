{
 "metadata": {
  "language_info": {
   "codemirror_mode": {
    "name": "ipython",
    "version": 3
   },
   "file_extension": ".py",
   "mimetype": "text/x-python",
   "name": "python",
   "nbconvert_exporter": "python",
   "pygments_lexer": "ipython3",
   "version": "3.8.3-final"
  },
  "orig_nbformat": 2,
  "kernelspec": {
   "name": "python38364bitlhlconda619b2268636e4f63936b0b3bcdf3dd7d",
   "display_name": "Python 3.8.3 64-bit ('lhl': conda)"
  }
 },
 "nbformat": 4,
 "nbformat_minor": 2,
 "cells": [
  {
   "cell_type": "code",
   "execution_count": 2,
   "metadata": {},
   "outputs": [
    {
     "output_type": "execute_result",
     "data": {
      "text/plain": "  name  age designation\n0    a   20          VP\n1    b   27         CEO\n2    c   35         CFO\n3    d   55          VP\n4    e   18          VP\n5    f   21         CEO\n6    g   35          MD",
      "text/html": "<div>\n<style scoped>\n    .dataframe tbody tr th:only-of-type {\n        vertical-align: middle;\n    }\n\n    .dataframe tbody tr th {\n        vertical-align: top;\n    }\n\n    .dataframe thead th {\n        text-align: right;\n    }\n</style>\n<table border=\"1\" class=\"dataframe\">\n  <thead>\n    <tr style=\"text-align: right;\">\n      <th></th>\n      <th>name</th>\n      <th>age</th>\n      <th>designation</th>\n    </tr>\n  </thead>\n  <tbody>\n    <tr>\n      <th>0</th>\n      <td>a</td>\n      <td>20</td>\n      <td>VP</td>\n    </tr>\n    <tr>\n      <th>1</th>\n      <td>b</td>\n      <td>27</td>\n      <td>CEO</td>\n    </tr>\n    <tr>\n      <th>2</th>\n      <td>c</td>\n      <td>35</td>\n      <td>CFO</td>\n    </tr>\n    <tr>\n      <th>3</th>\n      <td>d</td>\n      <td>55</td>\n      <td>VP</td>\n    </tr>\n    <tr>\n      <th>4</th>\n      <td>e</td>\n      <td>18</td>\n      <td>VP</td>\n    </tr>\n    <tr>\n      <th>5</th>\n      <td>f</td>\n      <td>21</td>\n      <td>CEO</td>\n    </tr>\n    <tr>\n      <th>6</th>\n      <td>g</td>\n      <td>35</td>\n      <td>MD</td>\n    </tr>\n  </tbody>\n</table>\n</div>"
     },
     "metadata": {},
     "execution_count": 2
    }
   ],
   "source": [
    "import pandas as pd\n",
    "my_dict = { 'name' : [\"a\", \"b\", \"c\", \"d\", \"e\",\"f\", \"g\"],\n",
    "                   'age' : [20,27, 35, 55, 18, 21, 35],\n",
    "                   'designation': [\"VP\", \"CEO\", \"CFO\", \"VP\", \"VP\", \"CEO\", \"MD\"]}\n",
    "df = pd.DataFrame(my_dict)\n",
    "df"
   ]
  },
  {
   "cell_type": "code",
   "execution_count": 4,
   "metadata": {},
   "outputs": [],
   "source": [
    "df.to_csv('csv_example', index = False)"
   ]
  },
  {
   "cell_type": "code",
   "execution_count": 5,
   "metadata": {},
   "outputs": [
    {
     "output_type": "execute_result",
     "data": {
      "text/plain": "  name  age designation\n0    a   20          VP\n1    b   27         CEO\n2    c   35         CFO\n3    d   55          VP\n4    e   18          VP\n5    f   21         CEO\n6    g   35          MD",
      "text/html": "<div>\n<style scoped>\n    .dataframe tbody tr th:only-of-type {\n        vertical-align: middle;\n    }\n\n    .dataframe tbody tr th {\n        vertical-align: top;\n    }\n\n    .dataframe thead th {\n        text-align: right;\n    }\n</style>\n<table border=\"1\" class=\"dataframe\">\n  <thead>\n    <tr style=\"text-align: right;\">\n      <th></th>\n      <th>name</th>\n      <th>age</th>\n      <th>designation</th>\n    </tr>\n  </thead>\n  <tbody>\n    <tr>\n      <th>0</th>\n      <td>a</td>\n      <td>20</td>\n      <td>VP</td>\n    </tr>\n    <tr>\n      <th>1</th>\n      <td>b</td>\n      <td>27</td>\n      <td>CEO</td>\n    </tr>\n    <tr>\n      <th>2</th>\n      <td>c</td>\n      <td>35</td>\n      <td>CFO</td>\n    </tr>\n    <tr>\n      <th>3</th>\n      <td>d</td>\n      <td>55</td>\n      <td>VP</td>\n    </tr>\n    <tr>\n      <th>4</th>\n      <td>e</td>\n      <td>18</td>\n      <td>VP</td>\n    </tr>\n    <tr>\n      <th>5</th>\n      <td>f</td>\n      <td>21</td>\n      <td>CEO</td>\n    </tr>\n    <tr>\n      <th>6</th>\n      <td>g</td>\n      <td>35</td>\n      <td>MD</td>\n    </tr>\n  </tbody>\n</table>\n</div>"
     },
     "metadata": {},
     "execution_count": 5
    }
   ],
   "source": [
    "df_csv = pd.read_csv('csv_example')\n",
    "df_csv"
   ]
  },
  {
   "cell_type": "code",
   "execution_count": 8,
   "metadata": {},
   "outputs": [
    {
     "output_type": "execute_result",
     "data": {
      "text/plain": "  name age designation\n     a  20          VP\n     b  27         CEO\n0    c  35         CFO\n1    d  55          VP\n2    e  18          VP\n3    f  21         CEO\n4    g  35          MD",
      "text/html": "<div>\n<style scoped>\n    .dataframe tbody tr th:only-of-type {\n        vertical-align: middle;\n    }\n\n    .dataframe tbody tr th {\n        vertical-align: top;\n    }\n\n    .dataframe thead tr th {\n        text-align: left;\n    }\n</style>\n<table border=\"1\" class=\"dataframe\">\n  <thead>\n    <tr>\n      <th></th>\n      <th>name</th>\n      <th>age</th>\n      <th>designation</th>\n    </tr>\n    <tr>\n      <th></th>\n      <th>a</th>\n      <th>20</th>\n      <th>VP</th>\n    </tr>\n    <tr>\n      <th></th>\n      <th>b</th>\n      <th>27</th>\n      <th>CEO</th>\n    </tr>\n  </thead>\n  <tbody>\n    <tr>\n      <th>0</th>\n      <td>c</td>\n      <td>35</td>\n      <td>CFO</td>\n    </tr>\n    <tr>\n      <th>1</th>\n      <td>d</td>\n      <td>55</td>\n      <td>VP</td>\n    </tr>\n    <tr>\n      <th>2</th>\n      <td>e</td>\n      <td>18</td>\n      <td>VP</td>\n    </tr>\n    <tr>\n      <th>3</th>\n      <td>f</td>\n      <td>21</td>\n      <td>CEO</td>\n    </tr>\n    <tr>\n      <th>4</th>\n      <td>g</td>\n      <td>35</td>\n      <td>MD</td>\n    </tr>\n  </tbody>\n</table>\n</div>"
     },
     "metadata": {},
     "execution_count": 8
    }
   ],
   "source": [
    "df_csv = pd.read_csv('csv_example', header=[0,1,2])\n",
    "df_csv"
   ]
  },
  {
   "cell_type": "code",
   "execution_count": 9,
   "metadata": {},
   "outputs": [
    {
     "output_type": "execute_result",
     "data": {
      "text/plain": "   e  18   VP\n0  f  21  CEO\n1  g  35   MD",
      "text/html": "<div>\n<style scoped>\n    .dataframe tbody tr th:only-of-type {\n        vertical-align: middle;\n    }\n\n    .dataframe tbody tr th {\n        vertical-align: top;\n    }\n\n    .dataframe thead th {\n        text-align: right;\n    }\n</style>\n<table border=\"1\" class=\"dataframe\">\n  <thead>\n    <tr style=\"text-align: right;\">\n      <th></th>\n      <th>e</th>\n      <th>18</th>\n      <th>VP</th>\n    </tr>\n  </thead>\n  <tbody>\n    <tr>\n      <th>0</th>\n      <td>f</td>\n      <td>21</td>\n      <td>CEO</td>\n    </tr>\n    <tr>\n      <th>1</th>\n      <td>g</td>\n      <td>35</td>\n      <td>MD</td>\n    </tr>\n  </tbody>\n</table>\n</div>"
     },
     "metadata": {},
     "execution_count": 9
    }
   ],
   "source": [
    "df_csv = pd.read_csv('csv_example', header=[5])\n",
    "df_csv"
   ]
  },
  {
   "cell_type": "code",
   "execution_count": 10,
   "metadata": {},
   "outputs": [
    {
     "output_type": "execute_result",
     "data": {
      "text/plain": "   a  20   VP\n   b  27  CEO\n   e  18   VP\n0  f  21  CEO\n1  g  35   MD",
      "text/html": "<div>\n<style scoped>\n    .dataframe tbody tr th:only-of-type {\n        vertical-align: middle;\n    }\n\n    .dataframe tbody tr th {\n        vertical-align: top;\n    }\n\n    .dataframe thead tr th {\n        text-align: left;\n    }\n</style>\n<table border=\"1\" class=\"dataframe\">\n  <thead>\n    <tr>\n      <th></th>\n      <th>a</th>\n      <th>20</th>\n      <th>VP</th>\n    </tr>\n    <tr>\n      <th></th>\n      <th>b</th>\n      <th>27</th>\n      <th>CEO</th>\n    </tr>\n    <tr>\n      <th></th>\n      <th>e</th>\n      <th>18</th>\n      <th>VP</th>\n    </tr>\n  </thead>\n  <tbody>\n    <tr>\n      <th>0</th>\n      <td>f</td>\n      <td>21</td>\n      <td>CEO</td>\n    </tr>\n    <tr>\n      <th>1</th>\n      <td>g</td>\n      <td>35</td>\n      <td>MD</td>\n    </tr>\n  </tbody>\n</table>\n</div>"
     },
     "metadata": {},
     "execution_count": 10
    }
   ],
   "source": [
    "df_csv = pd.read_csv('csv_example', header=[1,2,5])\n",
    "df_csv"
   ]
  },
  {
   "cell_type": "code",
   "execution_count": 11,
   "metadata": {},
   "outputs": [
    {
     "output_type": "execute_result",
     "data": {
      "text/plain": "      a    b            c\n0  name  age  designation\n1     a   20           VP\n2     b   27          CEO\n3     c   35          CFO\n4     d   55           VP\n5     e   18           VP\n6     f   21          CEO\n7     g   35           MD",
      "text/html": "<div>\n<style scoped>\n    .dataframe tbody tr th:only-of-type {\n        vertical-align: middle;\n    }\n\n    .dataframe tbody tr th {\n        vertical-align: top;\n    }\n\n    .dataframe thead th {\n        text-align: right;\n    }\n</style>\n<table border=\"1\" class=\"dataframe\">\n  <thead>\n    <tr style=\"text-align: right;\">\n      <th></th>\n      <th>a</th>\n      <th>b</th>\n      <th>c</th>\n    </tr>\n  </thead>\n  <tbody>\n    <tr>\n      <th>0</th>\n      <td>name</td>\n      <td>age</td>\n      <td>designation</td>\n    </tr>\n    <tr>\n      <th>1</th>\n      <td>a</td>\n      <td>20</td>\n      <td>VP</td>\n    </tr>\n    <tr>\n      <th>2</th>\n      <td>b</td>\n      <td>27</td>\n      <td>CEO</td>\n    </tr>\n    <tr>\n      <th>3</th>\n      <td>c</td>\n      <td>35</td>\n      <td>CFO</td>\n    </tr>\n    <tr>\n      <th>4</th>\n      <td>d</td>\n      <td>55</td>\n      <td>VP</td>\n    </tr>\n    <tr>\n      <th>5</th>\n      <td>e</td>\n      <td>18</td>\n      <td>VP</td>\n    </tr>\n    <tr>\n      <th>6</th>\n      <td>f</td>\n      <td>21</td>\n      <td>CEO</td>\n    </tr>\n    <tr>\n      <th>7</th>\n      <td>g</td>\n      <td>35</td>\n      <td>MD</td>\n    </tr>\n  </tbody>\n</table>\n</div>"
     },
     "metadata": {},
     "execution_count": 11
    }
   ],
   "source": [
    "df_csv = pd.read_csv('csv_example', names=['a', 'b', 'c'])\n",
    "df_csv"
   ]
  },
  {
   "cell_type": "code",
   "execution_count": 12,
   "metadata": {},
   "outputs": [
    {
     "output_type": "execute_result",
     "data": {
      "text/plain": "   a   b    c\n0  b  27  CEO\n1  c  35  CFO\n2  d  55   VP\n3  e  18   VP\n4  f  21  CEO\n5  g  35   MD",
      "text/html": "<div>\n<style scoped>\n    .dataframe tbody tr th:only-of-type {\n        vertical-align: middle;\n    }\n\n    .dataframe tbody tr th {\n        vertical-align: top;\n    }\n\n    .dataframe thead th {\n        text-align: right;\n    }\n</style>\n<table border=\"1\" class=\"dataframe\">\n  <thead>\n    <tr style=\"text-align: right;\">\n      <th></th>\n      <th>a</th>\n      <th>b</th>\n      <th>c</th>\n    </tr>\n  </thead>\n  <tbody>\n    <tr>\n      <th>0</th>\n      <td>b</td>\n      <td>27</td>\n      <td>CEO</td>\n    </tr>\n    <tr>\n      <th>1</th>\n      <td>c</td>\n      <td>35</td>\n      <td>CFO</td>\n    </tr>\n    <tr>\n      <th>2</th>\n      <td>d</td>\n      <td>55</td>\n      <td>VP</td>\n    </tr>\n    <tr>\n      <th>3</th>\n      <td>e</td>\n      <td>18</td>\n      <td>VP</td>\n    </tr>\n    <tr>\n      <th>4</th>\n      <td>f</td>\n      <td>21</td>\n      <td>CEO</td>\n    </tr>\n    <tr>\n      <th>5</th>\n      <td>g</td>\n      <td>35</td>\n      <td>MD</td>\n    </tr>\n  </tbody>\n</table>\n</div>"
     },
     "metadata": {},
     "execution_count": 12
    }
   ],
   "source": [
    "df_csv = pd.read_csv('csv_example', names=['a', 'b', 'c'], header=1)\n",
    "df_csv"
   ]
  },
  {
   "cell_type": "code",
   "execution_count": 15,
   "metadata": {},
   "outputs": [
    {
     "output_type": "execute_result",
     "data": {
      "text/plain": "  AGE  DESIGNATION NAME\n0   a           20   VP\n1   b           27  CEO\n2   c           35  CFO\n3   d           55   VP\n4   e           18   VP\n5   f           21  CEO\n6   g           35   MD",
      "text/html": "<div>\n<style scoped>\n    .dataframe tbody tr th:only-of-type {\n        vertical-align: middle;\n    }\n\n    .dataframe tbody tr th {\n        vertical-align: top;\n    }\n\n    .dataframe thead th {\n        text-align: right;\n    }\n</style>\n<table border=\"1\" class=\"dataframe\">\n  <thead>\n    <tr style=\"text-align: right;\">\n      <th></th>\n      <th>AGE</th>\n      <th>DESIGNATION</th>\n      <th>NAME</th>\n    </tr>\n  </thead>\n  <tbody>\n    <tr>\n      <th>0</th>\n      <td>a</td>\n      <td>20</td>\n      <td>VP</td>\n    </tr>\n    <tr>\n      <th>1</th>\n      <td>b</td>\n      <td>27</td>\n      <td>CEO</td>\n    </tr>\n    <tr>\n      <th>2</th>\n      <td>c</td>\n      <td>35</td>\n      <td>CFO</td>\n    </tr>\n    <tr>\n      <th>3</th>\n      <td>d</td>\n      <td>55</td>\n      <td>VP</td>\n    </tr>\n    <tr>\n      <th>4</th>\n      <td>e</td>\n      <td>18</td>\n      <td>VP</td>\n    </tr>\n    <tr>\n      <th>5</th>\n      <td>f</td>\n      <td>21</td>\n      <td>CEO</td>\n    </tr>\n    <tr>\n      <th>6</th>\n      <td>g</td>\n      <td>35</td>\n      <td>MD</td>\n    </tr>\n  </tbody>\n</table>\n</div>"
     },
     "metadata": {},
     "execution_count": 15
    }
   ],
   "source": [
    "df.to_csv('csv_example', index=False, header = False)\n",
    "df_csv = pd.read_csv('csv_example', names=['AGE', 'DESIGNATION', 'NAME'])\n",
    "df_csv"
   ]
  },
  {
   "cell_type": "code",
   "execution_count": 16,
   "metadata": {},
   "outputs": [],
   "source": [
    "df.to_csv('csv_example', index=False, sep=\":\")\n",
    "df_csv = pd.read_csv('csv_example', sep=\":\")"
   ]
  },
  {
   "cell_type": "code",
   "execution_count": 17,
   "metadata": {},
   "outputs": [
    {
     "output_type": "execute_result",
     "data": {
      "text/plain": "    name designation\nage                 \n20     a          VP\n27     b         CEO\n35     c         CFO\n55     d          VP\n18     e          VP\n21     f         CEO\n35     g          MD",
      "text/html": "<div>\n<style scoped>\n    .dataframe tbody tr th:only-of-type {\n        vertical-align: middle;\n    }\n\n    .dataframe tbody tr th {\n        vertical-align: top;\n    }\n\n    .dataframe thead th {\n        text-align: right;\n    }\n</style>\n<table border=\"1\" class=\"dataframe\">\n  <thead>\n    <tr style=\"text-align: right;\">\n      <th></th>\n      <th>name</th>\n      <th>designation</th>\n    </tr>\n    <tr>\n      <th>age</th>\n      <th></th>\n      <th></th>\n    </tr>\n  </thead>\n  <tbody>\n    <tr>\n      <th>20</th>\n      <td>a</td>\n      <td>VP</td>\n    </tr>\n    <tr>\n      <th>27</th>\n      <td>b</td>\n      <td>CEO</td>\n    </tr>\n    <tr>\n      <th>35</th>\n      <td>c</td>\n      <td>CFO</td>\n    </tr>\n    <tr>\n      <th>55</th>\n      <td>d</td>\n      <td>VP</td>\n    </tr>\n    <tr>\n      <th>18</th>\n      <td>e</td>\n      <td>VP</td>\n    </tr>\n    <tr>\n      <th>21</th>\n      <td>f</td>\n      <td>CEO</td>\n    </tr>\n    <tr>\n      <th>35</th>\n      <td>g</td>\n      <td>MD</td>\n    </tr>\n  </tbody>\n</table>\n</div>"
     },
     "metadata": {},
     "execution_count": 17
    }
   ],
   "source": [
    "df_csv.set_index('age')"
   ]
  },
  {
   "cell_type": "code",
   "execution_count": 19,
   "metadata": {},
   "outputs": [
    {
     "output_type": "execute_result",
     "data": {
      "text/plain": "            name  age\ndesignation          \nVP             a   20\nCEO            b   27\nCFO            c   35\nVP             d   55\nVP             e   18\nCEO            f   21\nMD             g   35",
      "text/html": "<div>\n<style scoped>\n    .dataframe tbody tr th:only-of-type {\n        vertical-align: middle;\n    }\n\n    .dataframe tbody tr th {\n        vertical-align: top;\n    }\n\n    .dataframe thead th {\n        text-align: right;\n    }\n</style>\n<table border=\"1\" class=\"dataframe\">\n  <thead>\n    <tr style=\"text-align: right;\">\n      <th></th>\n      <th>name</th>\n      <th>age</th>\n    </tr>\n    <tr>\n      <th>designation</th>\n      <th></th>\n      <th></th>\n    </tr>\n  </thead>\n  <tbody>\n    <tr>\n      <th>VP</th>\n      <td>a</td>\n      <td>20</td>\n    </tr>\n    <tr>\n      <th>CEO</th>\n      <td>b</td>\n      <td>27</td>\n    </tr>\n    <tr>\n      <th>CFO</th>\n      <td>c</td>\n      <td>35</td>\n    </tr>\n    <tr>\n      <th>VP</th>\n      <td>d</td>\n      <td>55</td>\n    </tr>\n    <tr>\n      <th>VP</th>\n      <td>e</td>\n      <td>18</td>\n    </tr>\n    <tr>\n      <th>CEO</th>\n      <td>f</td>\n      <td>21</td>\n    </tr>\n    <tr>\n      <th>MD</th>\n      <td>g</td>\n      <td>35</td>\n    </tr>\n  </tbody>\n</table>\n</div>"
     },
     "metadata": {},
     "execution_count": 19
    }
   ],
   "source": [
    "df_csv = pd.read_csv('csv_example', sep=\":\", index_col=2)\n",
    "df_csv\n"
   ]
  },
  {
   "cell_type": "code",
   "execution_count": 20,
   "metadata": {},
   "outputs": [
    {
     "output_type": "execute_result",
     "data": {
      "text/plain": "                  age\nname designation     \na    VP            20\nb    CEO           27\nc    CFO           35\nd    VP            55\ne    VP            18\nf    CEO           21\ng    MD            35",
      "text/html": "<div>\n<style scoped>\n    .dataframe tbody tr th:only-of-type {\n        vertical-align: middle;\n    }\n\n    .dataframe tbody tr th {\n        vertical-align: top;\n    }\n\n    .dataframe thead th {\n        text-align: right;\n    }\n</style>\n<table border=\"1\" class=\"dataframe\">\n  <thead>\n    <tr style=\"text-align: right;\">\n      <th></th>\n      <th></th>\n      <th>age</th>\n    </tr>\n    <tr>\n      <th>name</th>\n      <th>designation</th>\n      <th></th>\n    </tr>\n  </thead>\n  <tbody>\n    <tr>\n      <th>a</th>\n      <th>VP</th>\n      <td>20</td>\n    </tr>\n    <tr>\n      <th>b</th>\n      <th>CEO</th>\n      <td>27</td>\n    </tr>\n    <tr>\n      <th>c</th>\n      <th>CFO</th>\n      <td>35</td>\n    </tr>\n    <tr>\n      <th>d</th>\n      <th>VP</th>\n      <td>55</td>\n    </tr>\n    <tr>\n      <th>e</th>\n      <th>VP</th>\n      <td>18</td>\n    </tr>\n    <tr>\n      <th>f</th>\n      <th>CEO</th>\n      <td>21</td>\n    </tr>\n    <tr>\n      <th>g</th>\n      <th>MD</th>\n      <td>35</td>\n    </tr>\n  </tbody>\n</table>\n</div>"
     },
     "metadata": {},
     "execution_count": 20
    }
   ],
   "source": [
    "df_csv = pd.read_csv('csv_example', sep=\":\", index_col=[0,2])\n",
    "df_csv"
   ]
  },
  {
   "cell_type": "code",
   "execution_count": 23,
   "metadata": {},
   "outputs": [
    {
     "output_type": "execute_result",
     "data": {
      "text/plain": "  name  age designation\n0    a   20          VP\n1    b   27         CEO\n2    c   35         CFO",
      "text/html": "<div>\n<style scoped>\n    .dataframe tbody tr th:only-of-type {\n        vertical-align: middle;\n    }\n\n    .dataframe tbody tr th {\n        vertical-align: top;\n    }\n\n    .dataframe thead th {\n        text-align: right;\n    }\n</style>\n<table border=\"1\" class=\"dataframe\">\n  <thead>\n    <tr style=\"text-align: right;\">\n      <th></th>\n      <th>name</th>\n      <th>age</th>\n      <th>designation</th>\n    </tr>\n  </thead>\n  <tbody>\n    <tr>\n      <th>0</th>\n      <td>a</td>\n      <td>20</td>\n      <td>VP</td>\n    </tr>\n    <tr>\n      <th>1</th>\n      <td>b</td>\n      <td>27</td>\n      <td>CEO</td>\n    </tr>\n    <tr>\n      <th>2</th>\n      <td>c</td>\n      <td>35</td>\n      <td>CFO</td>\n    </tr>\n  </tbody>\n</table>\n</div>"
     },
     "metadata": {},
     "execution_count": 23
    }
   ],
   "source": [
    "# Load Only 3 Rows\n",
    "df_csv = pd.read_csv('csv_example', sep=\":\", nrows=3)\n",
    "df_csv"
   ]
  },
  {
   "cell_type": "code",
   "execution_count": 25,
   "metadata": {},
   "outputs": [
    {
     "output_type": "execute_result",
     "data": {
      "text/plain": "  name  age designation\n0    a   20          VP\n1    b   27         CEO\n2    c   35         CFO\n3    d   55          VP\n4    e   18          VP\n5    f   21         CEO\n6    g   35          MD",
      "text/html": "<div>\n<style scoped>\n    .dataframe tbody tr th:only-of-type {\n        vertical-align: middle;\n    }\n\n    .dataframe tbody tr th {\n        vertical-align: top;\n    }\n\n    .dataframe thead th {\n        text-align: right;\n    }\n</style>\n<table border=\"1\" class=\"dataframe\">\n  <thead>\n    <tr style=\"text-align: right;\">\n      <th></th>\n      <th>name</th>\n      <th>age</th>\n      <th>designation</th>\n    </tr>\n  </thead>\n  <tbody>\n    <tr>\n      <th>0</th>\n      <td>a</td>\n      <td>20</td>\n      <td>VP</td>\n    </tr>\n    <tr>\n      <th>1</th>\n      <td>b</td>\n      <td>27</td>\n      <td>CEO</td>\n    </tr>\n    <tr>\n      <th>2</th>\n      <td>c</td>\n      <td>35</td>\n      <td>CFO</td>\n    </tr>\n    <tr>\n      <th>3</th>\n      <td>d</td>\n      <td>55</td>\n      <td>VP</td>\n    </tr>\n    <tr>\n      <th>4</th>\n      <td>e</td>\n      <td>18</td>\n      <td>VP</td>\n    </tr>\n    <tr>\n      <th>5</th>\n      <td>f</td>\n      <td>21</td>\n      <td>CEO</td>\n    </tr>\n    <tr>\n      <th>6</th>\n      <td>g</td>\n      <td>35</td>\n      <td>MD</td>\n    </tr>\n  </tbody>\n</table>\n</div>"
     },
     "metadata": {},
     "execution_count": 25
    }
   ],
   "source": [
    "df_csv = pd.read_csv('csv_example', skip_blank_lines=False, sep=\":\")\n",
    "df_csv"
   ]
  },
  {
   "cell_type": "code",
   "execution_count": 4,
   "metadata": {},
   "outputs": [],
   "source": [
    "import numpy as np\n",
    "df2 = pd.DataFrame({'A': 1.,\n",
    "                       'B': pd.Timestamp('20130102'),\n",
    "                       'C': pd.Series(1, index=list(range(4)), dtype='float32'),\n",
    "                       'D': np.array([3] * 4, dtype='int32'),\n",
    "                       'E': pd.Categorical([\"test\", \"train\", \"test\", \"train\"]),\n",
    "                       'F': 'foo'})"
   ]
  },
  {
   "cell_type": "code",
   "execution_count": null,
   "metadata": {},
   "outputs": [],
   "source": []
  }
 ]
}